{
 "cells": [
  {
   "cell_type": "markdown",
   "metadata": {},
   "source": [
    "# We import the libraries"
   ]
  },
  {
   "cell_type": "code",
   "execution_count": 1,
   "metadata": {},
   "outputs": [],
   "source": [
    "import numpy as np\n",
    "import random\n",
    "import matplotlib.pyplot as plt"
   ]
  },
  {
   "cell_type": "markdown",
   "metadata": {},
   "source": [
    "# We read the data  "
   ]
  },
  {
   "cell_type": "code",
   "execution_count": 15,
   "metadata": {},
   "outputs": [],
   "source": [
    "def read_data(filename):\n",
    "\n",
    "    with open(filename, 'r') as file:\n",
    "        distance_matrix = False\n",
    "        city_list = False\n",
    "        for line in file:\n",
    "            line = line.strip()\n",
    "            # Create the distance matrix and the list of cities\n",
    "            if line.startswith('DIMENSION'):\n",
    "                dimension = int(line.split()[-1])\n",
    "                cities = np.zeros((dimension, 2))\n",
    "                distances = np.zeros((dimension, dimension))\n",
    "                i=0\n",
    "                j=0\n",
    "            \n",
    "            # What do we do with the line\n",
    "            if line.startswith('EDGE_WEIGHT_SECTION'):\n",
    "                distance_matrix = True\n",
    "                continue\n",
    "            elif line.startswith('DISPLAY_DATA_SECTION'):\n",
    "                distance_matrix = False\n",
    "                city_list = True\n",
    "                continue\n",
    "            elif line.startswith('EOF'):\n",
    "                break\n",
    "            \n",
    "            # Save data\n",
    "            if distance_matrix:\n",
    "                distances[i,] = [int(x) for x in line.split()]\n",
    "                i += 1\n",
    "            if city_list:\n",
    "                cities[j,] = line.split()[-2:]\n",
    "                j += 1\n",
    "        \n",
    "        return distances, cities"
   ]
  },
  {
   "cell_type": "code",
   "execution_count": 16,
   "metadata": {},
   "outputs": [
    {
     "ename": "ValueError",
     "evalue": "invalid literal for int() with base 10: '1150.0'",
     "output_type": "error",
     "traceback": [
      "\u001b[0;31m---------------------------------------------------------------------------\u001b[0m",
      "\u001b[0;31mValueError\u001b[0m                                Traceback (most recent call last)",
      "Cell \u001b[0;32mIn[16], line 1\u001b[0m\n\u001b[0;32m----> 1\u001b[0m distances,cities\u001b[38;5;241m=\u001b[39m \u001b[43mread_data\u001b[49m\u001b[43m(\u001b[49m\u001b[38;5;124;43m'\u001b[39;49m\u001b[38;5;124;43mbays29.tsp\u001b[39;49m\u001b[38;5;124;43m'\u001b[39;49m\u001b[43m)\u001b[49m\n",
      "Cell \u001b[0;32mIn[15], line 32\u001b[0m, in \u001b[0;36mread_data\u001b[0;34m(filename)\u001b[0m\n\u001b[1;32m     30\u001b[0m         i \u001b[38;5;241m+\u001b[39m\u001b[38;5;241m=\u001b[39m \u001b[38;5;241m1\u001b[39m\n\u001b[1;32m     31\u001b[0m     \u001b[38;5;28;01mif\u001b[39;00m city_list:\n\u001b[0;32m---> 32\u001b[0m         cities[j,] \u001b[38;5;241m=\u001b[39m [\u001b[38;5;28;43mint\u001b[39;49m\u001b[43m(\u001b[49m\u001b[43mx\u001b[49m\u001b[43m)\u001b[49m \u001b[38;5;28;01mfor\u001b[39;00m x \u001b[38;5;129;01min\u001b[39;00m line\u001b[38;5;241m.\u001b[39msplit()[\u001b[38;5;241m-\u001b[39m\u001b[38;5;241m2\u001b[39m:]]\n\u001b[1;32m     33\u001b[0m         j \u001b[38;5;241m+\u001b[39m\u001b[38;5;241m=\u001b[39m \u001b[38;5;241m1\u001b[39m\n\u001b[1;32m     35\u001b[0m \u001b[38;5;28;01mreturn\u001b[39;00m distances, cities\n",
      "\u001b[0;31mValueError\u001b[0m: invalid literal for int() with base 10: '1150.0'"
     ]
    }
   ],
   "source": [
    "distances,cities= read_data('bays29.tsp')"
   ]
  },
  {
   "cell_type": "code",
   "execution_count": 7,
   "metadata": {},
   "outputs": [
    {
     "data": {
      "text/plain": [
       "np.int64(148)"
      ]
     },
     "execution_count": 7,
     "metadata": {},
     "output_type": "execute_result"
    }
   ],
   "source": [
    "distances[1][2]"
   ]
  }
 ],
 "metadata": {
  "kernelspec": {
   "display_name": "Python 3 (ipykernel)",
   "language": "python",
   "name": "python3"
  },
  "language_info": {
   "codemirror_mode": {
    "name": "ipython",
    "version": 3
   },
   "file_extension": ".py",
   "mimetype": "text/x-python",
   "name": "python",
   "nbconvert_exporter": "python",
   "pygments_lexer": "ipython3",
   "version": "3.12.4"
  }
 },
 "nbformat": 4,
 "nbformat_minor": 2
}
