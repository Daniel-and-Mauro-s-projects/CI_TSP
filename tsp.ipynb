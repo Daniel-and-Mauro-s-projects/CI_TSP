{
 "cells": [
  {
   "cell_type": "markdown",
   "metadata": {},
   "source": [
    "# We import the libraries"
   ]
  },
  {
   "cell_type": "code",
   "execution_count": 1,
   "metadata": {},
   "outputs": [],
   "source": [
    "import numpy as np\n",
    "import random\n",
    "import matplotlib.pyplot as plt"
   ]
  },
  {
   "cell_type": "markdown",
   "metadata": {},
   "source": [
    "# Functions"
   ]
  },
  {
   "cell_type": "code",
   "execution_count": 17,
   "metadata": {},
   "outputs": [],
   "source": [
    "def read_data(filepath):\n",
    "    \"\"\" Read the data from the file and return the distance matrix and the list of cities positions \"\"\"\n",
    "\n",
    "    with open(filepath, 'r') as file:\n",
    "        distance_matrix = False\n",
    "        city_list = False\n",
    "        for line in file:\n",
    "            line = line.strip()\n",
    "            # Create the distance matrix and the list of cities\n",
    "            if line.startswith('DIMENSION'):\n",
    "                dimension = int(line.split()[-1])\n",
    "                cities = np.zeros((dimension, 2))\n",
    "                distances = np.zeros((dimension, dimension))\n",
    "                i=0\n",
    "                j=0\n",
    "            \n",
    "            # What do we do with the line\n",
    "            if line.startswith('EDGE_WEIGHT_SECTION'):\n",
    "                distance_matrix = True\n",
    "                continue\n",
    "            elif line.startswith('DISPLAY_DATA_SECTION'):\n",
    "                distance_matrix = False\n",
    "                city_list = True\n",
    "                continue\n",
    "            elif line.startswith('EOF'):\n",
    "                break\n",
    "            \n",
    "            # Save data\n",
    "            if distance_matrix:\n",
    "                distances[i,] = [int(x) for x in line.split()]\n",
    "                i += 1\n",
    "            if city_list:\n",
    "                cities[j,] = line.split()[-2:]\n",
    "                j += 1\n",
    "        \n",
    "        return distances, cities"
   ]
  },
  {
   "cell_type": "code",
   "execution_count": null,
   "metadata": {},
   "outputs": [],
   "source": [
    "class TSP_Genetic:\n",
    "    \"\"\"Perform a Genetic Algorithm simulation for the TSP problem\"\"\"\n",
    "\n",
    "    def __init__(\n",
    "        self,\n",
    "        offspring_size,\n",
    "        generations=100,\n",
    "        print_rate=10,\n",
    "        m_rate=0.05,\n",
    "        c_rate=0.8,\n",
    "        select_parents='tournament',\n",
    "        crossover,\n",
    "        mutate,\n",
    "        select_survivors\n",
    "    ):\n",
    "\n",
    "        \"\"\"Initialize the Genetic Algorithm simulation for the TSP problem.\n",
    "            Args:\n",
    "                offspring_size: The number of offspring to generate in each generation.\n",
    "                generations: The number of generations to simulate in the genetic algorithm (100 by default).\n",
    "                print_rate: How often to print the progress of the algorithm (Default: every 10 generations).\n",
    "                m_rate: The mutation rate, representing the probability of mutation in offspring (Default: 0.05).\n",
    "                c_rate: The crossover rate, representing the probability of crossover between parent chromosomes (Default: 0.8).\n",
    "                select_parents: The method to select parents for crossover. Options are 'tournament' and 'roulette' (Default: 'tournament').\n",
    "        \"\"\"\n",
    "        self.offspring_size = offspring_size\n",
    "        self.generations = generations\n",
    "        self.print_rate = print_rate\n",
    "\n",
    "        self.m_rate = m_rate\n",
    "        self.c_rate = c_rate\n",
    "\n",
    "        self.select_parents = select_parents\n",
    "        self.crossover = crossover\n",
    "        self.mutate = mutate\n",
    "        self.select_survivors = select_survivors\n",
    "\n",
    "\n",
    "    def run(self,population,cities,distances):\n",
    "        \"\"\"Run the Genetic Algorithm simulation for the TSP problem.\n",
    "            Args:\n",
    "                population: The initial population of chromosomes.\n",
    "                cities: The list of positions of each city. A row represents a city and the first element its x coordinate and the second its y coordinate.\n",
    "                distances: A matrix representing the distances between each pair of cities.\n",
    "        \"\"\"\n",
    "        self.population = population\n",
    "        self.population_size = self.population.shape[0]\n",
    "        self.cities = np.array(cities)\n",
    "        self.n_cities = self.cities.shape[0]\n",
    "        self.distances = np.array(distances)\n",
    "\n",
    "        for generation in range(self.generations):\n",
    "            # Select parents\n",
    "            parents = self.select_parents()\n",
    "            # Generate offspring\n",
    "            offspring = self.crossover(parents)\n",
    "            # Mutate offspring\n",
    "            offspring = self.mutate(offspring)\n",
    "            # Select survivors\n",
    "            self.population = self.select_survivors(parents,offspring)\n",
    "            # Print progress\n",
    "            if generation % self.print_rate == 0:\n",
    "                print(f\"Generation {generation} - Best fitness: {self.fitness(self.population)[0]}\")\n",
    "        \n",
    "        return self.population[0]"
   ]
  },
  {
   "cell_type": "code",
   "execution_count": 18,
   "metadata": {},
   "outputs": [],
   "source": [
    "distances,cities= read_data('bays29.tsp')\n",
    "    "
   ]
  }
 ],
 "metadata": {
  "kernelspec": {
   "display_name": "Python 3 (ipykernel)",
   "language": "python",
   "name": "python3"
  },
  "language_info": {
   "codemirror_mode": {
    "name": "ipython",
    "version": 3
   },
   "file_extension": ".py",
   "mimetype": "text/x-python",
   "name": "python",
   "nbconvert_exporter": "python",
   "pygments_lexer": "ipython3",
   "version": "3.12.4"
  }
 },
 "nbformat": 4,
 "nbformat_minor": 2
}
