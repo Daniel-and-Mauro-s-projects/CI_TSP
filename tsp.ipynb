{
 "cells": [
  {
   "cell_type": "markdown",
   "metadata": {},
   "source": [
    "# We import the libraries"
   ]
  },
  {
   "cell_type": "code",
   "execution_count": 10,
   "metadata": {},
   "outputs": [],
   "source": [
    "import numpy as np\n",
    "\n",
    "from tsp_genetic import TSP_Genetic\n",
    "from parent_selection import parent_selection\n",
    "from mutation import mutation\n",
    "from crossover import crossover"
   ]
  },
  {
   "cell_type": "markdown",
   "metadata": {},
   "source": [
    "# Functions"
   ]
  },
  {
   "cell_type": "code",
   "execution_count": 11,
   "metadata": {},
   "outputs": [],
   "source": [
    "def read_data(filepath):\n",
    "    \"\"\" Read the data from the file and return the distance matrix and the list of cities positions \"\"\"\n",
    "\n",
    "    with open(filepath, 'r') as file:\n",
    "        distance_matrix = False\n",
    "        city_list = False\n",
    "        for line in file:\n",
    "            line = line.strip()\n",
    "            # Create the distance matrix and the list of cities\n",
    "            if line.startswith('DIMENSION'):\n",
    "                dimension = int(line.split()[-1])\n",
    "                cities = np.zeros((dimension, 2))\n",
    "                distances = np.zeros((dimension, dimension))\n",
    "                i=0\n",
    "                j=0\n",
    "            \n",
    "            # What do we do with the line\n",
    "            if line.startswith('EDGE_WEIGHT_SECTION'):\n",
    "                distance_matrix = True\n",
    "                continue\n",
    "            elif line.startswith('DISPLAY_DATA_SECTION'):\n",
    "                distance_matrix = False\n",
    "                city_list = True\n",
    "                continue\n",
    "            elif line.startswith('EOF'):\n",
    "                break\n",
    "            \n",
    "            # Save data\n",
    "            if distance_matrix:\n",
    "                distances[i,] = [int(x) for x in line.split()]\n",
    "                i += 1\n",
    "            if city_list:\n",
    "                cities[j,] = line.split()[-2:]\n",
    "                j += 1\n",
    "        \n",
    "        return distances, cities"
   ]
  },
  {
   "cell_type": "code",
   "execution_count": 12,
   "metadata": {},
   "outputs": [],
   "source": [
    "def create_population(size : int, cities : np.ndarray):\n",
    "    \"\"\" Create the initial population \"\"\"\n",
    "\n",
    "    population = []\n",
    "    for i in range(size):\n",
    "        population.append(np.random.permutation(cities.shape[0]))\n",
    "    \n",
    "    return population"
   ]
  },
  {
   "cell_type": "markdown",
   "metadata": {},
   "source": [
    "# Usage example"
   ]
  },
  {
   "cell_type": "code",
   "execution_count": 13,
   "metadata": {},
   "outputs": [],
   "source": [
    "# We read the data:\n",
    "distances,cities= read_data('bays29.tsp')"
   ]
  },
  {
   "cell_type": "code",
   "execution_count": 15,
   "metadata": {},
   "outputs": [],
   "source": [
    "# Instantiate the genetic algorithm\n",
    "genetic= TSP_Genetic(generations=100,\n",
    "                    print_results=False,\n",
    "                    print_rate=10,\n",
    "                    m_rate=0.05,\n",
    "                    c_rate=0.8,\n",
    "                    select_parents=\"tournament_selection\",\n",
    "                    tournament_size=5,\n",
    "                    crossover=\"POS\",\n",
    "                    crossover_call=\"()\",\n",
    "                    mutation=\"exchange\",\n",
    "                    elitism=3,\n",
    "                    results_path= \"fitness_statistics.json\",\n",
    "                    save_results=True)"
   ]
  },
  {
   "cell_type": "code",
   "execution_count": 16,
   "metadata": {},
   "outputs": [],
   "source": [
    "# Create the population:\n",
    "population = create_population(50, cities)"
   ]
  },
  {
   "cell_type": "code",
   "execution_count": 17,
   "metadata": {},
   "outputs": [
    {
     "name": "stderr",
     "output_type": "stream",
     "text": [
      "WARNING:root:Population size - elitism is not even. Adding one to population size.\n"
     ]
    }
   ],
   "source": [
    "# Run the genetic algorithm\n",
    "final_population = genetic.run(population,cities,distances)"
   ]
  },
  {
   "cell_type": "code",
   "execution_count": 18,
   "metadata": {},
   "outputs": [
    {
     "name": "stdout",
     "output_type": "stream",
     "text": [
      "{'0': {'mean_fitness': 6051.2, 'median_fitness': 6121.0, 'min_fitness': 5023.0, 'max_fitness': 6980.0}}\n"
     ]
    }
   ],
   "source": [
    "# Access the results for every generation metrics\n",
    "import json\n",
    "\n",
    "with open('fitness_statistics.json', 'r') as file:\n",
    "    data = json.load(file)\n",
    "\n",
    "print(data[0])"
   ]
  },
  {
   "cell_type": "markdown",
   "metadata": {},
   "source": [
    "# Grid Seach"
   ]
  },
  {
   "cell_type": "code",
   "execution_count": null,
   "metadata": {},
   "outputs": [],
   "source": [
    "# Define the parameter grid\n",
    "param_grid = {\n",
    "    \"generations\" : [100, 200, 300],\n",
    "    \"m_rate\" : [0.01, 0.05, 0.1],\n",
    "    \"c_rate\" : [0.6, 0.8, 1],\n",
    "    \"select_parents\" : [\"tournament_selection\", \"roulette_selection\",\"rank_roulette_selection\",\"random_selection\"],\n",
    "    \"crossover\" : [\"POS\", \"OX1\"],\n",
    "    \"mutation\" : [\"exchange\", \"insertion\", \"IVM\"]\n",
    "}\n",
    "\n",
    "# TODO we need to decide how we want to instanciate the different methods because they all have their own parameters that have to be passed to the genetic algorithm\n",
    "\n",
    "# Only for tournament selection\n",
    "tournament_size=[3, 5, 10] "
   ]
  },
  {
   "cell_type": "code",
   "execution_count": null,
   "metadata": {},
   "outputs": [],
   "source": [
    "# Grid search\n",
    "#TODO"
   ]
  }
 ],
 "metadata": {
  "kernelspec": {
   "display_name": "Python 3 (ipykernel)",
   "language": "python",
   "name": "python3"
  },
  "language_info": {
   "codemirror_mode": {
    "name": "ipython",
    "version": 3
   },
   "file_extension": ".py",
   "mimetype": "text/x-python",
   "name": "python",
   "nbconvert_exporter": "python",
   "pygments_lexer": "ipython3",
   "version": "3.12.4"
  }
 },
 "nbformat": 4,
 "nbformat_minor": 2
}
