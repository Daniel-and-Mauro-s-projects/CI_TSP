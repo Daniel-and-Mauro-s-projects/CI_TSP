{
 "cells": [
  {
   "cell_type": "markdown",
   "metadata": {},
   "source": [
    "# We import the libraries"
   ]
  },
  {
   "cell_type": "code",
   "execution_count": 1,
   "metadata": {},
   "outputs": [],
   "source": [
    "import numpy as np\n",
    "\n",
    "from tsp_genetic import TSP_Genetic\n",
    "from parent_selection import parent_selection\n",
    "from mutation import mutation\n",
    "from crossover import crossover"
   ]
  },
  {
   "cell_type": "markdown",
   "metadata": {},
   "source": [
    "# Functions"
   ]
  },
  {
   "cell_type": "code",
   "execution_count": 2,
   "metadata": {},
   "outputs": [],
   "source": [
    "def read_data(filepath):\n",
    "    \"\"\" Read the data from the file and return the distance matrix and the list of cities positions \"\"\"\n",
    "\n",
    "    with open(filepath, 'r') as file:\n",
    "        distance_matrix = False\n",
    "        city_list = False\n",
    "        for line in file:\n",
    "            line = line.strip()\n",
    "            # Create the distance matrix and the list of cities\n",
    "            if line.startswith('DIMENSION'):\n",
    "                dimension = int(line.split()[-1])\n",
    "                cities = np.zeros((dimension, 2))\n",
    "                distances = np.zeros((dimension, dimension))\n",
    "                i=0\n",
    "                j=0\n",
    "            \n",
    "            # What do we do with the line\n",
    "            if line.startswith('EDGE_WEIGHT_SECTION'):\n",
    "                distance_matrix = True\n",
    "                continue\n",
    "            elif line.startswith('DISPLAY_DATA_SECTION'):\n",
    "                distance_matrix = False\n",
    "                city_list = True\n",
    "                continue\n",
    "            elif line.startswith('EOF'):\n",
    "                break\n",
    "            \n",
    "            # Save data\n",
    "            if distance_matrix:\n",
    "                distances[i,] = [int(x) for x in line.split()]\n",
    "                i += 1\n",
    "            if city_list:\n",
    "                cities[j,] = line.split()[-2:]\n",
    "                j += 1\n",
    "        \n",
    "        return distances, cities"
   ]
  },
  {
   "cell_type": "code",
   "execution_count": 3,
   "metadata": {},
   "outputs": [],
   "source": [
    "def create_population(size : int, cities : np.ndarray):\n",
    "    \"\"\" Create the initial population \"\"\"\n",
    "\n",
    "    population = []\n",
    "    for i in range(size):\n",
    "        population.append(np.random.permutation(cities.shape[0]))\n",
    "    \n",
    "    return population"
   ]
  },
  {
   "cell_type": "markdown",
   "metadata": {},
   "source": [
    "# Analysis"
   ]
  },
  {
   "cell_type": "code",
   "execution_count": 4,
   "metadata": {},
   "outputs": [],
   "source": [
    "# We read the data:\n",
    "distances,cities= read_data('bays29.tsp')"
   ]
  },
  {
   "cell_type": "code",
   "execution_count": 5,
   "metadata": {},
   "outputs": [],
   "source": [
    "# Instantiate the genetic algorithm\n",
    "genetic= TSP_Genetic(generations=100,\n",
    "                    print_rate=10,\n",
    "                    m_rate=0.05,\n",
    "                    c_rate=0.8,\n",
    "                    select_parents=\"tournament_selection\",\n",
    "                    tournament_size=5,\n",
    "                    crossover=\"OX1\",\n",
    "                    mutation=\"insertion\",\n",
    "                    elitism=3)\n"
   ]
  },
  {
   "cell_type": "code",
   "execution_count": 6,
   "metadata": {},
   "outputs": [],
   "source": [
    "# Create the population:\n",
    "population = create_population(50, cities)"
   ]
  },
  {
   "cell_type": "code",
   "execution_count": 7,
   "metadata": {},
   "outputs": [
    {
     "name": "stderr",
     "output_type": "stream",
     "text": [
      "WARNING:root:Population size - elitism is not even. Adding one to population size.\n"
     ]
    },
    {
     "ename": "TypeError",
     "evalue": "only integer scalar arrays can be converted to a scalar index",
     "output_type": "error",
     "traceback": [
      "\u001b[0;31m---------------------------------------------------------------------------\u001b[0m",
      "\u001b[0;31mTypeError\u001b[0m                                 Traceback (most recent call last)",
      "Cell \u001b[0;32mIn[7], line 2\u001b[0m\n\u001b[1;32m      1\u001b[0m \u001b[38;5;66;03m# Run the genetic algorithm\u001b[39;00m\n\u001b[0;32m----> 2\u001b[0m \u001b[43mgenetic\u001b[49m\u001b[38;5;241;43m.\u001b[39;49m\u001b[43mrun\u001b[49m\u001b[43m(\u001b[49m\u001b[43mpopulation\u001b[49m\u001b[43m,\u001b[49m\u001b[43mcities\u001b[49m\u001b[43m,\u001b[49m\u001b[43mdistances\u001b[49m\u001b[43m)\u001b[49m\n",
      "File \u001b[0;32m~/Documents/Master/MAI_FirstSemester/CI/CI_TSP/tsp_genetic.py:112\u001b[0m, in \u001b[0;36mTSP_Genetic.run\u001b[0;34m(self, population, cities, distances)\u001b[0m\n\u001b[1;32m    110\u001b[0m \u001b[38;5;66;03m#Elitism\u001b[39;00m\n\u001b[1;32m    111\u001b[0m \u001b[38;5;28;01mif\u001b[39;00m \u001b[38;5;28mself\u001b[39m\u001b[38;5;241m.\u001b[39melitism \u001b[38;5;241m>\u001b[39m \u001b[38;5;241m0\u001b[39m:\n\u001b[0;32m--> 112\u001b[0m     offspring\u001b[38;5;241m=\u001b[39m\u001b[38;5;28;43mself\u001b[39;49m\u001b[38;5;241;43m.\u001b[39;49m\u001b[43mpopulation\u001b[49m\u001b[43m[\u001b[49m\u001b[43mnp\u001b[49m\u001b[38;5;241;43m.\u001b[39;49m\u001b[43margsort\u001b[49m\u001b[43m(\u001b[49m\u001b[43mfitness\u001b[49m\u001b[43m)\u001b[49m\u001b[43m[\u001b[49m\u001b[43m:\u001b[49m\u001b[38;5;28;43mself\u001b[39;49m\u001b[38;5;241;43m.\u001b[39;49m\u001b[43melitism\u001b[49m\u001b[43m]\u001b[49m\u001b[43m]\u001b[49m\n\u001b[1;32m    114\u001b[0m \u001b[38;5;66;03m# Generate offspring:\u001b[39;00m\n\u001b[1;32m    115\u001b[0m \u001b[38;5;28;01mfor\u001b[39;00m i \u001b[38;5;129;01min\u001b[39;00m \u001b[38;5;28mrange\u001b[39m((\u001b[38;5;28mself\u001b[39m\u001b[38;5;241m.\u001b[39mpopulation_size\u001b[38;5;241m-\u001b[39m\u001b[38;5;28mself\u001b[39m\u001b[38;5;241m.\u001b[39melitism)\u001b[38;5;241m/\u001b[39m\u001b[38;5;241m2\u001b[39m):\n\u001b[1;32m    116\u001b[0m     \u001b[38;5;66;03m# Select parents\u001b[39;00m\n",
      "\u001b[0;31mTypeError\u001b[0m: only integer scalar arrays can be converted to a scalar index"
     ]
    }
   ],
   "source": [
    "# Run the genetic algorithm\n",
    "genetic.run(population,cities,distances)"
   ]
  }
 ],
 "metadata": {
  "kernelspec": {
   "display_name": "Python 3 (ipykernel)",
   "language": "python",
   "name": "python3"
  },
  "language_info": {
   "codemirror_mode": {
    "name": "ipython",
    "version": 3
   },
   "file_extension": ".py",
   "mimetype": "text/x-python",
   "name": "python",
   "nbconvert_exporter": "python",
   "pygments_lexer": "ipython3",
   "version": "3.12.4"
  }
 },
 "nbformat": 4,
 "nbformat_minor": 2
}
